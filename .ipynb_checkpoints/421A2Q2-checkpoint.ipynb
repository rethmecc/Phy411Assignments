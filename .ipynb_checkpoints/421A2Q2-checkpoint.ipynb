{
 "metadata": {
  "name": "",
  "signature": "sha256:1a025623cb96f99c1a637366960e82253bfb925dfbb69dad09a5fb905d85db12"
 },
 "nbformat": 3,
 "nbformat_minor": 0,
 "worksheets": [
  {
   "cells": [
    {
     "cell_type": "code",
     "collapsed": false,
     "input": [
      "#import libraries\n",
      "import numpy.random as random\n",
      "import numpy as np\n",
      "import matplotlib.mlab as mlab\n",
      "import scipy.stats as stats\n",
      "%matplotlib inline\n",
      "import matplotlib.pyplot as plt\n",
      "import matplotlib.cm as cm\n",
      "import scipy.signal as signal\n",
      "from scipy.interpolate import interp1d\n",
      "from datetime import date\n",
      "import scipy.interpolate as interpolate\n",
      "import matplotlib.dates as dates"
     ],
     "language": "python",
     "metadata": {},
     "outputs": [],
     "prompt_number": 1
    },
    {
     "cell_type": "code",
     "collapsed": false,
     "input": [
      "ens=500 #number of trials\n",
      "x=np.zeros(ens) #array of total distances travelled by the random walker\n",
      "for i in range(ens):\n",
      "    N=30 #number of steps of the random walker\n",
      "    r=np.random.uniform(size=N) #array of uniform random numbers\n",
      "    s=1-np.sqrt(1-r) #function to convert from a uniform distrbution to w(s)\n",
      "    x[i]=np.sum(s) #compute total distance travelled\n",
      "\n",
      "#Make and label plot\n",
      "plt.hist(x)\n",
      "plt.xlabel('X')\n",
      "#Compute mean and standard deviation\n",
      "print np.mean(x)\n",
      "print np.std(x)"
     ],
     "language": "python",
     "metadata": {},
     "outputs": [
      {
       "output_type": "stream",
       "stream": "stdout",
       "text": [
        "10.0586724578\n",
        "1.32183679832\n"
       ]
      },
      {
       "metadata": {},
       "output_type": "display_data",
       "png": "[encoded data removed]",
       "text": [
        "<matplotlib.figure.Figure at 0x7ffc05e94610>"
       ]
      }
     ],
     "prompt_number": 24
    },
    {
     "cell_type": "code",
     "collapsed": false,
     "input": [],
     "language": "python",
     "metadata": {},
     "outputs": []
    }
   ],
   "metadata": {}
  }
 ]
}