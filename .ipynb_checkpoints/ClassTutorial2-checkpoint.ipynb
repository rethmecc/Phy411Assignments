{
 "metadata": {
  "name": "",
  "signature": "sha256:1f14c4d3074f8a98916f16c6c3e9ad2f582df88afb86ef4b48fc1186c5691ee5"
 },
 "nbformat": 3,
 "nbformat_minor": 0,
 "worksheets": []
}