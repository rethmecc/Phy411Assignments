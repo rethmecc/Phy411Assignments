{
 "metadata": {
  "name": "",
  "signature": "sha256:a3767437e77a77bdd58e968a56bfc67abaa12f0e2d17e52c78e4b48629330b12"
 },
 "nbformat": 3,
 "nbformat_minor": 0,
 "worksheets": [
  {
   "cells": [
    {
     "cell_type": "code",
     "collapsed": false,
     "input": [],
     "language": "python",
     "metadata": {},
     "outputs": []
    }
   ],
   "metadata": {}
  }
 ]
}