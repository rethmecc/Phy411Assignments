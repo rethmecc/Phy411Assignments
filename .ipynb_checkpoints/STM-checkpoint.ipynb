{
 "metadata": {
  "name": "",
  "signature": "sha256:968b71e07df38056eade6e99ca965bff5384fa2c085ecf3595c0d784ab90adf2"
 },
 "nbformat": 3,
 "nbformat_minor": 0,
 "worksheets": [
  {
   "cells": [
    {
     "cell_type": "code",
     "collapsed": false,
     "input": [
      "import numpy.random as random\n",
      "import numpy as np\n",
      "import matplotlib.mlab as mlab\n",
      "import scipy.stats as stats\n",
      "%matplotlib inline\n",
      "import matplotlib.pyplot as plt\n",
      "import matplotlib.cm as cm\n",
      "import scipy.signal as signal\n",
      "from scipy.interpolate import interp1d\n",
      "from datetime import date\n",
      "import scipy.interpolate as interpolate\n",
      "import matplotlib.dates as dates\n",
      "import PIL\n",
      "import Image\n",
      "import os"
     ],
     "language": "python",
     "metadata": {},
     "outputs": [],
     "prompt_number": 72
    },
    {
     "cell_type": "code",
     "collapsed": false,
     "input": [
      "#i = Image(filename='../Documents/PHYS429A/Scanning_Probe_Microscopy/stm12nm.bmp')\n",
      "# The conversion should work equally with a bitmap\n",
      "img = PIL.Image.open('../Documents/PHYS429A/Scanning_Probe_Microscopy/stm12nm.bmp')\n",
      "rgb_im = img.convert('RGB')\n",
      "\n",
      "rgb_im.size"
     ],
     "language": "python",
     "metadata": {},
     "outputs": [
      {
       "metadata": {},
       "output_type": "pyout",
       "prompt_number": 73,
       "text": [
        "(991, 371)"
       ]
      }
     ],
     "prompt_number": 73
    },
    {
     "cell_type": "code",
     "collapsed": false,
     "input": [
      "# Get the first row rgb values\n",
      "first_row = [rgb_im.getpixel((i,0)) for i in range(rgb_im.size[0])]\n",
      "# Count how many pixels are black. Note that jpg is not the cleanest of all file formats. \n",
      "# Hence converting to and from jpg usually comes with some losses, i.e. changes in pixel values. \n",
      "print first_row.count((0,0,0)) # --> 628\n",
      "len(first_row) #--> 680"
     ],
     "language": "python",
     "metadata": {},
     "outputs": [
      {
       "output_type": "stream",
       "stream": "stdout",
       "text": [
        "0\n"
       ]
      },
      {
       "metadata": {},
       "output_type": "pyout",
       "prompt_number": 74,
       "text": [
        "991"
       ]
      }
     ],
     "prompt_number": 74
    },
    {
     "cell_type": "code",
     "collapsed": false,
     "input": [
      "print set(first_row)\n",
      "print rgb_im.format, rgb_im.size, rgb_im.mode"
     ],
     "language": "python",
     "metadata": {},
     "outputs": [
      {
       "output_type": "stream",
       "stream": "stdout",
       "text": [
        "set([(64, 64, 64), (255, 255, 255)])\n",
        "None (991, 371) RGB\n"
       ]
      }
     ],
     "prompt_number": 75
    },
    {
     "cell_type": "code",
     "collapsed": false,
     "input": [
      "print type(rgb_im)"
     ],
     "language": "python",
     "metadata": {},
     "outputs": [
      {
       "output_type": "stream",
       "stream": "stdout",
       "text": [
        "<type 'instance'>\n"
       ]
      }
     ],
     "prompt_number": 76
    },
    {
     "cell_type": "code",
     "collapsed": false,
     "input": [
      "ZOutputLoc = (314, 72, 570, 328)\n",
      "CurrentLoc = (640, 72, 896, 328)\n",
      "ZOutputWin = (295, 27, 615, 347)\n",
      "CurrentWin = (621, 27, 941, 347)\n",
      "Zregion = rgb_im.crop(ZOutputLoc)\n",
      "Cregion = rgb_im.crop(ZOutputLoc)\n",
      "Zwin = rgb_im.crop(ZOutputLoc)\n",
      "Cwin = rgb_im.crop(ZOutputLoc)\n",
      "#region = region.transpose(Image.ROTATE_180)\n",
      "#region.show()\n",
      "#im.paste(region, box)\n",
      "name = [\"\" for _ in range(74)]\n",
      "ZOutput = [Zregion for _ in range(74)]\n",
      "Current = [Cregion for _ in range(74)]\n",
      "ZOutputW = [Zwin for _ in range(74)]\n",
      "CurrentW = [Cwin for _ in range(74)]"
     ],
     "language": "python",
     "metadata": {},
     "outputs": [],
     "prompt_number": 77
    },
    {
     "cell_type": "code",
     "collapsed": false,
     "input": [
      "dir = \"../Documents/PHYS429A/Scanning_Probe_Microscopy\"\n",
      "i=0\n",
      "for file in os.listdir(dir):\n",
      "    if file!=\".directory\":\n",
      "        img = PIL.Image.open(os.path.join(dir, file))\n",
      "        rgb_im = img.convert('RGB')\n",
      "        name[i] = file\n",
      "        ZOutput[i] = np.array(rgb_im.crop(ZOutputLoc))\n",
      "        Current[i] = np.array(rgb_im.crop(CurrentLoc))\n",
      "        ZOutputW[i] = np.array(rgb_im.crop(ZOutputWin))\n",
      "        CurrentW[i] = np.array(rgb_im.crop(CurrentWin))\n",
      "        i+=1\n",
      "print i"
     ],
     "language": "python",
     "metadata": {},
     "outputs": [
      {
       "output_type": "stream",
       "stream": "stdout",
       "text": [
        "74\n"
       ]
      }
     ],
     "prompt_number": 136
    },
    {
     "cell_type": "code",
     "collapsed": false,
     "input": [
      "for i in range(74):\n",
      "    if name[i]==\"stm12nm.bmp\":\n",
      "        print i"
     ],
     "language": "python",
     "metadata": {},
     "outputs": [
      {
       "output_type": "stream",
       "stream": "stdout",
       "text": [
        "19\n"
       ]
      }
     ],
     "prompt_number": 93
    },
    {
     "cell_type": "code",
     "collapsed": false,
     "input": [
      "print ZOutput[19][411-314][216-72]"
     ],
     "language": "python",
     "metadata": {},
     "outputs": [
      {
       "output_type": "stream",
       "stream": "stdout",
       "text": [
        "[252 126   0]\n"
       ]
      }
     ],
     "prompt_number": 110
    },
    {
     "cell_type": "code",
     "collapsed": false,
     "input": [
      "pic=Image.fromarray(ZOutput[19])\n",
      "pic.show()"
     ],
     "language": "python",
     "metadata": {},
     "outputs": [],
     "prompt_number": 97
    },
    {
     "cell_type": "code",
     "collapsed": false,
     "input": [
      "val=np.zeros((100,256,3))\n",
      "mag=np.zeros((100,256))\n",
      "for i in range(100):\n",
      "    k=0\n",
      "    for j in range(256):\n",
      "        k=53./252.*j\n",
      "        val[i][j]=ZOutput[19][i+k][j]\n",
      "        mag[i][j]=np.sum(ZOutput[19][i+k][j])\n",
      "val=val.astype(np.uint8)"
     ],
     "language": "python",
     "metadata": {},
     "outputs": [],
     "prompt_number": 257
    },
    {
     "cell_type": "code",
     "collapsed": false,
     "input": [
      "pic=Image.fromarray(val)\n",
      "pic.show()"
     ],
     "language": "python",
     "metadata": {},
     "outputs": [],
     "prompt_number": 180
    },
    {
     "cell_type": "code",
     "collapsed": false,
     "input": [
      "Gxx,f=mlab.psd(mag.flatten())\n",
      "Gxxw,fw=mlab.psd(mag.flatten(),NFFT=256,window=mlab.window_hanning,noverlap=128)\n",
      "\n",
      "print Gxx[Gxx==max(Gxx[50:])][0]"
     ],
     "language": "python",
     "metadata": {},
     "outputs": [
      {
       "output_type": "stream",
       "stream": "stdout",
       "text": [
        "682377.288019\n"
       ]
      }
     ],
     "prompt_number": 258
    },
    {
     "cell_type": "code",
     "collapsed": false,
     "input": [
      "fig,ax=plt.subplots(1,2,figsize=(15,5))\n",
      "ax[0].loglog(f,Gxx)\n",
      "ax[1].loglog(fw,Gxxw)"
     ],
     "language": "python",
     "metadata": {},
     "outputs": [
      {
       "metadata": {},
       "output_type": "pyout",
       "prompt_number": 234,
       "text": [
        "[<matplotlib.lines.Line2D at 0x7f9a06723990>]"
       ]
      },
      {
       "metadata": {},
       "output_type": "display_data",
       "png": "[encoded data removed]",
       "text": [
        "<matplotlib.figure.Figure at 0x7f9a069724d0>"
       ]
      }
     ],
     "prompt_number": 234
    },
    {
     "cell_type": "code",
     "collapsed": false,
     "input": [
      "Gxx,f=mlab.psd(mag.T.flatten())\n",
      "Gxxw,fw=mlab.psd(mag.T.flatten(),NFFT=256,window=mlab.window_hanning,noverlap=128)"
     ],
     "language": "python",
     "metadata": {},
     "outputs": [],
     "prompt_number": 236
    },
    {
     "cell_type": "code",
     "collapsed": false,
     "input": [
      "fig,ax=plt.subplots(1,2,figsize=(15,5))\n",
      "ax[0].loglog(f,Gxx)\n",
      "ax[1].loglog(fw,Gxxw)"
     ],
     "language": "python",
     "metadata": {},
     "outputs": [
      {
       "metadata": {},
       "output_type": "pyout",
       "prompt_number": 237,
       "text": [
        "[<matplotlib.lines.Line2D at 0x7f9a064f9390>]"
       ]
      },
      {
       "metadata": {},
       "output_type": "display_data",
       "png": "[encoded data removed]",
       "text": [
        "<matplotlib.figure.Figure at 0x7f9a06652850>"
       ]
      }
     ],
     "prompt_number": 237
    },
    {
     "cell_type": "code",
     "collapsed": false,
     "input": [
      "val=np.zeros((100,256,3))\n",
      "mag=np.zeros((100,256))\n",
      "\n",
      "r=40.\n",
      "peak=np.zeros(100)\n",
      "print type(cur)\n",
      "print type(last)\n",
      "print type(r)\n",
      "while r<66:\n",
      "    for i in range(100):\n",
      "        k=0\n",
      "        for j in range(256):\n",
      "            k=r/252.*j\n",
      "            val[i][j]=ZOutput[19][i+k][j]\n",
      "            mag[i][j]=np.sum(ZOutput[19][i+k][j])\n",
      "    Gxx,f=mlab.psd(mag.flatten())\n",
      "    peak[r] = Gxx[Gxx==max(Gxx[50:])][0]\n",
      "    r+=1\n",
      "    print r\n",
      "    print peak[r-1]\n",
      "    print f[Gxx==max(Gxx[50:])]\n",
      "    #print Gxx==max(Gxx[50:])\n",
      "m=np.where(peak==max(peak))[0][0]\n",
      "for i in range(100):\n",
      "    k=0\n",
      "    for j in range(256):\n",
      "        k=m/252.*j\n",
      "        val[i][j]=ZOutput[19][i+k][j]\n",
      "        mag[i][j]=np.sum(ZOutput[19][i+k][j])\n",
      "Gxx,f=mlab.psd(mag.flatten())\n",
      "val=val.astype(np.uint8)\n",
      "\n",
      "plt.loglog(f,Gxx)\n",
      "\n",
      "pic=Image.fromarray(val)\n",
      "pic.show()"
     ],
     "language": "python",
     "metadata": {},
     "outputs": [
      {
       "output_type": "stream",
       "stream": "stdout",
       "text": [
        "<type 'numpy.float64'>\n",
        "<type 'numpy.float64'>\n",
        "<type 'float'>\n",
        "41.0"
       ]
      },
      {
       "output_type": "stream",
       "stream": "stdout",
       "text": [
        "\n",
        "453942.115277\n",
        "[ 0.4453125]\n",
        "42.0"
       ]
      },
      {
       "output_type": "stream",
       "stream": "stdout",
       "text": [
        "\n",
        "380405.064804\n",
        "[ 0.453125]\n",
        "43.0"
       ]
      },
      {
       "output_type": "stream",
       "stream": "stdout",
       "text": [
        "\n",
        "465200.795598\n",
        "[ 0.453125]\n",
        "44.0"
       ]
      },
      {
       "output_type": "stream",
       "stream": "stdout",
       "text": [
        "\n",
        "487401.096427\n",
        "[ 0.453125]\n",
        "45.0"
       ]
      },
      {
       "output_type": "stream",
       "stream": "stdout",
       "text": [
        "\n",
        "462641.614459\n",
        "[ 0.453125]\n",
        "46.0"
       ]
      },
      {
       "output_type": "stream",
       "stream": "stdout",
       "text": [
        "\n",
        "389268.577209\n",
        "[ 0.4609375]\n",
        "47.0"
       ]
      },
      {
       "output_type": "stream",
       "stream": "stdout",
       "text": [
        "\n",
        "486082.71834\n",
        "[ 0.4609375]\n",
        "48.0"
       ]
      },
      {
       "output_type": "stream",
       "stream": "stdout",
       "text": [
        "\n",
        "532852.983314\n",
        "[ 0.4609375]\n",
        "49.0"
       ]
      },
      {
       "output_type": "stream",
       "stream": "stdout",
       "text": [
        "\n",
        "511011.353606\n",
        "[ 0.4609375]\n",
        "50.0"
       ]
      },
      {
       "output_type": "stream",
       "stream": "stdout",
       "text": [
        "\n",
        "571914.236918\n",
        "[ 0.46875]\n",
        "51.0"
       ]
      },
      {
       "output_type": "stream",
       "stream": "stdout",
       "text": [
        "\n",
        "657833.866271\n",
        "[ 0.46875]\n",
        "52.0"
       ]
      },
      {
       "output_type": "stream",
       "stream": "stdout",
       "text": [
        "\n",
        "723029.345716\n",
        "[ 0.46875]\n",
        "53.0"
       ]
      },
      {
       "output_type": "stream",
       "stream": "stdout",
       "text": [
        "\n",
        "736376.917574\n",
        "[ 0.46875]\n",
        "54.0"
       ]
      },
      {
       "output_type": "stream",
       "stream": "stdout",
       "text": [
        "\n",
        "682377.288019\n",
        "[ 0.46875]\n",
        "55.0"
       ]
      },
      {
       "output_type": "stream",
       "stream": "stdout",
       "text": [
        "\n",
        "586599.378982\n",
        "[ 0.46875]\n",
        "56.0"
       ]
      },
      {
       "output_type": "stream",
       "stream": "stdout",
       "text": [
        "\n",
        "629887.172827\n",
        "[ 0.4765625]\n",
        "57.0"
       ]
      },
      {
       "output_type": "stream",
       "stream": "stdout",
       "text": [
        "\n",
        "652612.427656\n",
        "[ 0.4765625]\n",
        "58.0"
       ]
      },
      {
       "output_type": "stream",
       "stream": "stdout",
       "text": [
        "\n",
        "623144.293593\n",
        "[ 0.4765625]\n",
        "59.0"
       ]
      },
      {
       "output_type": "stream",
       "stream": "stdout",
       "text": [
        "\n",
        "529198.9792\n",
        "[ 0.4765625]\n",
        "60.0"
       ]
      },
      {
       "output_type": "stream",
       "stream": "stdout",
       "text": [
        "\n",
        "482867.766465\n",
        "[ 0.484375]\n",
        "61.0"
       ]
      },
      {
       "output_type": "stream",
       "stream": "stdout",
       "text": [
        "\n",
        "517485.117193\n",
        "[ 0.484375]\n",
        "62.0"
       ]
      },
      {
       "output_type": "stream",
       "stream": "stdout",
       "text": [
        "\n",
        "498112.70612\n",
        "[ 0.484375]\n",
        "63.0"
       ]
      },
      {
       "output_type": "stream",
       "stream": "stdout",
       "text": [
        "\n",
        "436960.264817\n",
        "[ 0.484375]\n",
        "64.0"
       ]
      },
      {
       "output_type": "stream",
       "stream": "stdout",
       "text": [
        "\n",
        "451660.430526\n",
        "[ 0.4921875]\n",
        "65.0"
       ]
      },
      {
       "output_type": "stream",
       "stream": "stdout",
       "text": [
        "\n",
        "543586.536329\n",
        "[ 0.4921875]\n",
        "66.0"
       ]
      },
      {
       "output_type": "stream",
       "stream": "stdout",
       "text": [
        "\n",
        "545058.103306\n",
        "[ 0.4921875]\n"
       ]
      },
      {
       "metadata": {},
       "output_type": "display_data",
       "png": "[encoded data removed]",
       "text": [
        "<matplotlib.figure.Figure at 0x7f9a06c0e7d0>"
       ]
      }
     ],
     "prompt_number": 272
    },
    {
     "cell_type": "code",
     "collapsed": false,
     "input": [
      "print np.where(peak==max(peak))[0][0]"
     ],
     "language": "python",
     "metadata": {},
     "outputs": [
      {
       "output_type": "stream",
       "stream": "stdout",
       "text": [
        "52\n"
       ]
      }
     ],
     "prompt_number": 271
    },
    {
     "cell_type": "code",
     "collapsed": false,
     "input": [
      "print f[np.where(Gxx==max(Gxx[2:]))]\n",
      "print fw[np.where(Gxxw==max(Gxxw[2:]))]"
     ],
     "language": "python",
     "metadata": {},
     "outputs": [
      {
       "output_type": "stream",
       "stream": "stdout",
       "text": [
        "[ 0.46875]\n",
        "[ 0.46875]\n"
       ]
      }
     ],
     "prompt_number": 224
    },
    {
     "cell_type": "code",
     "collapsed": false,
     "input": [
      "plt.plot(np.mean(mag,1))"
     ],
     "language": "python",
     "metadata": {},
     "outputs": [
      {
       "metadata": {},
       "output_type": "pyout",
       "prompt_number": 230,
       "text": [
        "[<matplotlib.lines.Line2D at 0x7f9a06c01bd0>]"
       ]
      },
      {
       "metadata": {},
       "output_type": "display_data",
       "png": "[encoded data removed]",
       "text": [
        "<matplotlib.figure.Figure at 0x7f9a074872d0>"
       ]
      }
     ],
     "prompt_number": 230
    },
    {
     "cell_type": "markdown",
     "metadata": {},
     "source": [
      "Automate the rotation:\n",
      "done!\n",
      "\n",
      "Compare images with csd and make phase go to 0. DO this for all image in a set.\n",
      "Overlay all images in a set.\n",
      "Measure interatomic spacing.\n",
      "Undo rotation in both image space and spacing value.\n",
      "Calculate theoretical value.\n",
      "Compare values.\n",
      "Repeat for other sets."
     ]
    }
   ],
   "metadata": {}
  }
 ]
}