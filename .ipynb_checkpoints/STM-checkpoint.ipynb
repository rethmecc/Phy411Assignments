{
 "metadata": {
  "name": "",
  "signature": "sha256:47ee5fd292d1458285500e1beaf510881a9dd5709ae8c4d36e37ffc0fff61e06"
 },
 "nbformat": 3,
 "nbformat_minor": 0,
 "worksheets": [
  {
   "cells": [
    {
     "cell_type": "code",
     "collapsed": false,
     "input": [
      "import numpy.random as random\n",
      "import numpy as np\n",
      "import matplotlib.mlab as mlab\n",
      "import scipy.stats as stats\n",
      "%matplotlib inline\n",
      "import matplotlib.pyplot as plt\n",
      "import matplotlib.cm as cm\n",
      "import scipy.signal as signal\n",
      "from scipy.interpolate import interp1d\n",
      "from datetime import date\n",
      "import scipy.interpolate as interpolate\n",
      "import matplotlib.dates as dates\n",
      "import PIL\n",
      "import Image\n",
      "import os"
     ],
     "language": "python",
     "metadata": {},
     "outputs": [],
     "prompt_number": 2
    },
    {
     "cell_type": "code",
     "collapsed": false,
     "input": [
      "#i = Image(filename='../Documents/PHYS429A/Scanning_Probe_Microscopy/stm12nm.bmp')\n",
      "# The conversion should work equally with a bitmap\n",
      "img = PIL.Image.open('../Documents/PHYS429A/Scanning_Probe_Microscopy/stm12nm.bmp')\n",
      "rgb_im = img.convert('RGB')\n",
      "\n",
      "rgb_im.size"
     ],
     "language": "python",
     "metadata": {},
     "outputs": [
      {
       "metadata": {},
       "output_type": "pyout",
       "prompt_number": 3,
       "text": [
        "(991, 371)"
       ]
      }
     ],
     "prompt_number": 3
    },
    {
     "cell_type": "code",
     "collapsed": false,
     "input": [
      "# Get the first row rgb values\n",
      "first_row = [rgb_im.getpixel((i,0)) for i in range(rgb_im.size[0])]\n",
      "# Count how many pixels are black. Note that jpg is not the cleanest of all file formats. \n",
      "# Hence converting to and from jpg usually comes with some losses, i.e. changes in pixel values. \n",
      "print first_row.count((0,0,0)) # --> 628\n",
      "len(first_row) #--> 680"
     ],
     "language": "python",
     "metadata": {},
     "outputs": [
      {
       "output_type": "stream",
       "stream": "stdout",
       "text": [
        "0\n"
       ]
      },
      {
       "metadata": {},
       "output_type": "pyout",
       "prompt_number": 4,
       "text": [
        "991"
       ]
      }
     ],
     "prompt_number": 4
    },
    {
     "cell_type": "code",
     "collapsed": false,
     "input": [
      "print set(first_row)\n",
      "print rgb_im.format, rgb_im.size, rgb_im.mode"
     ],
     "language": "python",
     "metadata": {},
     "outputs": [
      {
       "output_type": "stream",
       "stream": "stdout",
       "text": [
        "set([(64, 64, 64), (255, 255, 255)])\n",
        "None (991, 371) RGB\n"
       ]
      }
     ],
     "prompt_number": 5
    },
    {
     "cell_type": "code",
     "collapsed": false,
     "input": [
      "print type(rgb_im)"
     ],
     "language": "python",
     "metadata": {},
     "outputs": [
      {
       "output_type": "stream",
       "stream": "stdout",
       "text": [
        "<type 'instance'>\n"
       ]
      }
     ],
     "prompt_number": 6
    },
    {
     "cell_type": "code",
     "collapsed": false,
     "input": [
      "ZOutputLoc = (314, 72, 570, 328)\n",
      "CurrentLoc = (640, 72, 896, 328)\n",
      "ZOutputWin = (295, 27, 615, 347)\n",
      "CurrentWin = (621, 27, 941, 347)\n",
      "Zregion = rgb_im.crop(ZOutputLoc)\n",
      "Cregion = rgb_im.crop(ZOutputLoc)\n",
      "Zwin = rgb_im.crop(ZOutputLoc)\n",
      "Cwin = rgb_im.crop(ZOutputLoc)\n",
      "#region = region.transpose(Image.ROTATE_180)\n",
      "#region.show()\n",
      "#im.paste(region, box)\n",
      "name = [\"\" for _ in range(74)]\n",
      "ZOutput = [Zregion for _ in range(74)]\n",
      "Current = [Cregion for _ in range(74)]\n",
      "ZOutputW = [Zwin for _ in range(74)]\n",
      "CurrentW = [Cwin for _ in range(74)]"
     ],
     "language": "python",
     "metadata": {},
     "outputs": [],
     "prompt_number": 7
    },
    {
     "cell_type": "code",
     "collapsed": false,
     "input": [
      "dir = \"../Documents/PHYS429A/Scanning_Probe_Microscopy/1.5nm-40\"\n",
      "i=0\n",
      "for file in os.listdir(dir):\n",
      "    if file!=\".directory\":\n",
      "        img = PIL.Image.open(os.path.join(dir, file))\n",
      "        rgb_im = img.convert('RGB')\n",
      "        name[i] = file\n",
      "        ZOutput[i] = np.array(rgb_im.crop(ZOutputLoc))\n",
      "        Current[i] = np.array(rgb_im.crop(CurrentLoc))\n",
      "        ZOutputW[i] = np.array(rgb_im.crop(ZOutputWin))\n",
      "        CurrentW[i] = np.array(rgb_im.crop(CurrentWin))\n",
      "        i+=1\n",
      "print i"
     ],
     "language": "python",
     "metadata": {},
     "outputs": [
      {
       "output_type": "stream",
       "stream": "stdout",
       "text": [
        "40\n"
       ]
      }
     ],
     "prompt_number": 9
    },
    {
     "cell_type": "code",
     "collapsed": false,
     "input": [
      "for i in range(74):\n",
      "    if name[i]==\"stm12nm.bmp\":\n",
      "        print i"
     ],
     "language": "python",
     "metadata": {},
     "outputs": [],
     "prompt_number": 10
    },
    {
     "cell_type": "code",
     "collapsed": false,
     "input": [
      "print ZOutput[19][411-314][216-72]"
     ],
     "language": "python",
     "metadata": {},
     "outputs": [
      {
       "output_type": "stream",
       "stream": "stdout",
       "text": [
        "[236 118   0]\n"
       ]
      }
     ],
     "prompt_number": 11
    },
    {
     "cell_type": "code",
     "collapsed": false,
     "input": [
      "pic=Image.fromarray(Current[19])\n",
      "pic.show()"
     ],
     "language": "python",
     "metadata": {},
     "outputs": [],
     "prompt_number": 15
    },
    {
     "cell_type": "code",
     "collapsed": false,
     "input": [
      "val=np.zeros((100,256,3))\n",
      "mag=np.zeros((100,256))\n",
      "for i in range(100):\n",
      "    k=0\n",
      "    for j in range(256):\n",
      "        k=53./252.*j\n",
      "        val[i][j]=Current[19][i+k][j]\n",
      "        mag[i][j]=np.sum(Current[19][i+k][j])\n",
      "val=val.astype(np.uint8)"
     ],
     "language": "python",
     "metadata": {},
     "outputs": [],
     "prompt_number": 16
    },
    {
     "cell_type": "code",
     "collapsed": false,
     "input": [
      "pic=Image.fromarray(val)\n",
      "pic.show()"
     ],
     "language": "python",
     "metadata": {},
     "outputs": [],
     "prompt_number": 17
    },
    {
     "cell_type": "code",
     "collapsed": false,
     "input": [
      "Gxx,f=mlab.psd(mag.flatten())\n",
      "Gxxw,fw=mlab.psd(mag.flatten(),NFFT=256,window=mlab.window_hanning,noverlap=128)\n",
      "\n",
      "print Gxx[Gxx==max(Gxx[50:])][0]"
     ],
     "language": "python",
     "metadata": {},
     "outputs": [
      {
       "output_type": "stream",
       "stream": "stdout",
       "text": [
        "682377.288019\n"
       ]
      }
     ],
     "prompt_number": 258
    },
    {
     "cell_type": "code",
     "collapsed": false,
     "input": [
      "fig,ax=plt.subplots(1,2,figsize=(15,5))\n",
      "ax[0].loglog(f,Gxx)\n",
      "ax[1].loglog(fw,Gxxw)"
     ],
     "language": "python",
     "metadata": {},
     "outputs": [
      {
       "metadata": {},
       "output_type": "pyout",
       "prompt_number": 234,
       "text": [
        "[<matplotlib.lines.Line2D at 0x7f9a06723990>]"
       ]
      },
      {
       "metadata": {},
       "output_type": "display_data",
       "png": "[encoded data removed]",
       "text": [
        "<matplotlib.figure.Figure at 0x7f9a069724d0>"
       ]
      }
     ],
     "prompt_number": 234
    },
    {
     "cell_type": "code",
     "collapsed": false,
     "input": [
      "Gxx,f=mlab.psd(mag.T.flatten())\n",
      "Gxxw,fw=mlab.psd(mag.T.flatten(),NFFT=256,window=mlab.window_hanning,noverlap=128)"
     ],
     "language": "python",
     "metadata": {},
     "outputs": [],
     "prompt_number": 236
    },
    {
     "cell_type": "code",
     "collapsed": false,
     "input": [
      "fig,ax=plt.subplots(1,2,figsize=(15,5))\n",
      "ax[0].loglog(f,Gxx)\n",
      "ax[1].loglog(fw,Gxxw)"
     ],
     "language": "python",
     "metadata": {},
     "outputs": [
      {
       "metadata": {},
       "output_type": "pyout",
       "prompt_number": 237,
       "text": [
        "[<matplotlib.lines.Line2D at 0x7f9a064f9390>]"
       ]
      },
      {
       "metadata": {},
       "output_type": "display_data",
       "png": "[encoded data removed]",
       "text": [
        "<matplotlib.figure.Figure at 0x7f9a06652850>"
       ]
      }
     ],
     "prompt_number": 237
    },
    {
     "cell_type": "code",
     "collapsed": false,
     "input": [
      "def level(num,typ=0):\n",
      "    if typ==0:\n",
      "        sec=ZOutput*1\n",
      "    else:\n",
      "        sec=Current*1\n",
      "    val=np.zeros((100,256,3))\n",
      "    mag=np.zeros((100,256))\n",
      "\n",
      "    r=0.\n",
      "    peak=np.zeros(100)\n",
      "    while r<100:\n",
      "        for i in range(100):\n",
      "            k=0\n",
      "            for j in range(256):\n",
      "                k=r/252.*j\n",
      "                val[i][j]=sec[num][i+k][j]\n",
      "                mag[i][j]=np.sum(sec[num][i+k][j])\n",
      "        Gxx,f=mlab.psd(mag.flatten())\n",
      "        peak[r] = Gxx[Gxx==max(Gxx[50:])][0]\n",
      "        r+=1\n",
      "        #print r\n",
      "        #print peak[r-1]\n",
      "        #print f[Gxx==max(Gxx[50:])]\n",
      "    m=np.where(peak==max(peak))[0][0]\n",
      "    for i in range(100):\n",
      "        k=0\n",
      "        for j in range(256):\n",
      "            k=m/252.*j\n",
      "            val[i][j]=sec[num][i+k][j]\n",
      "            mag[i][j]=np.sum(sec[num][i+k][j])\n",
      "    Gxx,f=mlab.psd(mag.flatten())\n",
      "    val=val.astype(np.uint8)\n",
      "\n",
      "    #plt.loglog(f,Gxx)\n",
      "\n",
      "    #pic=Image.fromarray(val)\n",
      "    #pic.show()\n",
      "    \n",
      "    return val\n",
      "\n",
      "#rotated=np.zeros((74,100,256,3))\n",
      "#for picnum in range(74):\n",
      "#    print picnum\n",
      "#    rotated[picnum]=level(picnum)\n",
      "#rotated=rotated.astype(np.uint8)"
     ],
     "language": "python",
     "metadata": {},
     "outputs": [],
     "prompt_number": 18
    },
    {
     "cell_type": "code",
     "collapsed": false,
     "input": [
      "rotatedPic=Image.fromarray(rotated[47])\n",
      "rotatedPic.show()\n",
      "for i in range(74):\n",
      "    if name[i]==\"stm2nm.bmp\":\n",
      "        print i"
     ],
     "language": "python",
     "metadata": {},
     "outputs": [
      {
       "output_type": "stream",
       "stream": "stdout",
       "text": [
        "47\n"
       ]
      }
     ],
     "prompt_number": 294
    },
    {
     "cell_type": "code",
     "collapsed": false,
     "input": [
      "test=level(47)\n",
      "test=Image.fromarray(test)\n",
      "test.show()"
     ],
     "language": "python",
     "metadata": {},
     "outputs": [
      {
       "output_type": "stream",
       "stream": "stdout",
       "text": [
        "<type 'numpy.float64'>\n",
        "<type 'numpy.float64'>\n",
        "<type 'float'>\n"
       ]
      }
     ],
     "prompt_number": 295
    },
    {
     "cell_type": "code",
     "collapsed": false,
     "input": [
      "i=0\n",
      "for s in name:\n",
      "    if \"Feb10_6\" in s:\n",
      "        rotated[i]=level(i)\n",
      "        rotatedPic=Image.fromarray(rotated[i])\n",
      "        rotatedPic.show()\n",
      "        print name[i]\n",
      "    i+=1"
     ],
     "language": "python",
     "metadata": {},
     "outputs": [
      {
       "output_type": "stream",
       "stream": "stdout",
       "text": [
        "Feb10_6nm-1.bmp\n",
        "Feb10_6nm-3.bmp"
       ]
      },
      {
       "output_type": "stream",
       "stream": "stdout",
       "text": [
        "\n",
        "Feb10_6nm-4.bmp"
       ]
      },
      {
       "output_type": "stream",
       "stream": "stdout",
       "text": [
        "\n",
        "Feb10_6nm-0.bmp"
       ]
      },
      {
       "output_type": "stream",
       "stream": "stdout",
       "text": [
        "\n",
        "Feb10_6nm-5.bmp"
       ]
      },
      {
       "output_type": "stream",
       "stream": "stdout",
       "text": [
        "\n",
        "Feb10_6nm-2.bmp"
       ]
      },
      {
       "output_type": "stream",
       "stream": "stdout",
       "text": [
        "\n"
       ]
      }
     ],
     "prompt_number": 310
    },
    {
     "cell_type": "code",
     "collapsed": false,
     "input": [
      "i=0\n",
      "set1=np.zeros((256,256,3))\n",
      "for s in name:\n",
      "    if \"Feb10_6\" in s:\n",
      "        set1+=ZOutput[i]/6.\n",
      "        print name[i]\n",
      "    i+=1\n",
      "set1=set1.astype(np.uint8)\n",
      "im1=Image.fromarray(set1)\n",
      "im1.show()"
     ],
     "language": "python",
     "metadata": {},
     "outputs": [
      {
       "output_type": "stream",
       "stream": "stdout",
       "text": [
        "Feb10_6nm-1.bmp\n",
        "Feb10_6nm-3.bmp\n",
        "Feb10_6nm-4.bmp\n",
        "Feb10_6nm-0.bmp\n",
        "Feb10_6nm-5.bmp\n",
        "Feb10_6nm-2.bmp\n"
       ]
      }
     ],
     "prompt_number": 317
    },
    {
     "cell_type": "code",
     "collapsed": false,
     "input": [
      "plt.plot(np.mean(mag,0))"
     ],
     "language": "python",
     "metadata": {},
     "outputs": [
      {
       "ename": "NameError",
       "evalue": "name 'plt' is not defined",
       "output_type": "pyerr",
       "traceback": [
        "\u001b[1;31m---------------------------------------------------------------------------\u001b[0m\n\u001b[1;31mNameError\u001b[0m                                 Traceback (most recent call last)",
        "\u001b[1;32m<ipython-input-1-f2028c3bf2b9>\u001b[0m in \u001b[0;36m<module>\u001b[1;34m()\u001b[0m\n\u001b[1;32m----> 1\u001b[1;33m \u001b[0mplt\u001b[0m\u001b[1;33m.\u001b[0m\u001b[0mplot\u001b[0m\u001b[1;33m(\u001b[0m\u001b[0mnp\u001b[0m\u001b[1;33m.\u001b[0m\u001b[0mmean\u001b[0m\u001b[1;33m(\u001b[0m\u001b[0mmag\u001b[0m\u001b[1;33m,\u001b[0m\u001b[1;36m0\u001b[0m\u001b[1;33m)\u001b[0m\u001b[1;33m)\u001b[0m\u001b[1;33m\u001b[0m\u001b[0m\n\u001b[0m",
        "\u001b[1;31mNameError\u001b[0m: name 'plt' is not defined"
       ]
      }
     ],
     "prompt_number": 1
    },
    {
     "cell_type": "markdown",
     "metadata": {},
     "source": [
      "Automate the rotation:\n",
      "done!\n",
      "\n",
      "Compare images with csd and make phase go to 0. DO this for all image in a set.\n",
      "Overlay all images in a set.\n",
      "Measure interatomic spacing.\n",
      "Undo rotation in both image space and spacing value.\n",
      "Calculate theoretical value.\n",
      "Compare values.\n",
      "Repeat for other sets.\n",
      "\n",
      "Need to get oscilltion frequency and interatomic distance\n",
      "#Rotate image\n",
      "Use fft to make map of atomic positions.\n",
      "Choose one atom and line it up with the nearest from another imnage.\n",
      "Make series of images."
     ]
    },
    {
     "cell_type": "code",
     "collapsed": false,
     "input": [
      "rotated[19]=level(19)\n",
      "rotatedPic=Image.fromarray(rotated[19])\n",
      "rotatedPic.show()"
     ],
     "language": "python",
     "metadata": {},
     "outputs": []
    },
    {
     "cell_type": "code",
     "collapsed": false,
     "input": [],
     "language": "python",
     "metadata": {},
     "outputs": []
    }
   ],
   "metadata": {}
  }
 ]
}