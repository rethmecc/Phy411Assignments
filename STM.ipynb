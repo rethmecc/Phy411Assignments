{
 "metadata": {
  "name": "",
  "signature": "sha256:9ee5091d9e592eed909bc8495c39b01084d1d12a1d825150832b8151c2a23ec2"
 },
 "nbformat": 3,
 "nbformat_minor": 0,
 "worksheets": [
  {
   "cells": [
    {
     "cell_type": "code",
     "collapsed": false,
     "input": [
      "import numpy.random as random\n",
      "import numpy as np\n",
      "import matplotlib.mlab as mlab\n",
      "import scipy.stats as stats\n",
      "%matplotlib inline\n",
      "import matplotlib.pyplot as plt\n",
      "import matplotlib.cm as cm\n",
      "import scipy.signal as signal\n",
      "from scipy.interpolate import interp1d\n",
      "from datetime import date\n",
      "import scipy.interpolate as interpolate\n",
      "import matplotlib.dates as dates\n",
      "import PIL\n",
      "import Image\n",
      "import os\n",
      "import math as math\n",
      "from sympy.mpmath import mp"
     ],
     "language": "python",
     "metadata": {},
     "outputs": [],
     "prompt_number": 122
    },
    {
     "cell_type": "code",
     "collapsed": false,
     "input": [
      "#i = Image(filename='../Documents/PHYS429A/Scanning_Probe_Microscopy/stm12nm.bmp')\n",
      "# The conversion should work equally with a bitmap\n",
      "img = PIL.Image.open('../Documents/PHYS429A/Scanning_Probe_Microscopy/stm12nm.bmp')\n",
      "rgb_im = img.convert('RGB')\n",
      "\n",
      "rgb_im.size"
     ],
     "language": "python",
     "metadata": {},
     "outputs": [
      {
       "metadata": {},
       "output_type": "pyout",
       "prompt_number": 2,
       "text": [
        "(991, 371)"
       ]
      }
     ],
     "prompt_number": 2
    },
    {
     "cell_type": "code",
     "collapsed": false,
     "input": [
      "# Get the first row rgb values\n",
      "first_row = [rgb_im.getpixel((i,0)) for i in range(rgb_im.size[0])]\n",
      "# Count how many pixels are black. Note that jpg is not the cleanest of all file formats. \n",
      "# Hence converting to and from jpg usually comes with some losses, i.e. changes in pixel values. \n",
      "print first_row.count((0,0,0)) # --> 628\n",
      "len(first_row) #--> 680"
     ],
     "language": "python",
     "metadata": {},
     "outputs": [
      {
       "output_type": "stream",
       "stream": "stdout",
       "text": [
        "0\n"
       ]
      },
      {
       "metadata": {},
       "output_type": "pyout",
       "prompt_number": 3,
       "text": [
        "991"
       ]
      }
     ],
     "prompt_number": 3
    },
    {
     "cell_type": "code",
     "collapsed": false,
     "input": [
      "print set(first_row)\n",
      "print rgb_im.format, rgb_im.size, rgb_im.mode"
     ],
     "language": "python",
     "metadata": {},
     "outputs": [
      {
       "output_type": "stream",
       "stream": "stdout",
       "text": [
        "set([(64, 64, 64), (255, 255, 255)])\n",
        "None (991, 371) RGB\n"
       ]
      }
     ],
     "prompt_number": 4
    },
    {
     "cell_type": "code",
     "collapsed": false,
     "input": [
      "print type(rgb_im)"
     ],
     "language": "python",
     "metadata": {},
     "outputs": [
      {
       "output_type": "stream",
       "stream": "stdout",
       "text": [
        "<type 'instance'>\n"
       ]
      }
     ],
     "prompt_number": 5
    },
    {
     "cell_type": "code",
     "collapsed": false,
     "input": [
      "ZOutputLoc = (314, 72, 570, 328)\n",
      "CurrentLoc = (640, 72, 896, 328)\n",
      "ZOutputWin = (295, 27, 615, 347)\n",
      "CurrentWin = (621, 27, 941, 347)\n",
      "Zregion = rgb_im.crop(ZOutputLoc)\n",
      "Cregion = rgb_im.crop(ZOutputLoc)\n",
      "Zwin = rgb_im.crop(ZOutputLoc)\n",
      "Cwin = rgb_im.crop(ZOutputLoc)\n",
      "#region = region.transpose(Image.ROTATE_180)\n",
      "#region.show()\n",
      "#im.paste(region, box)\n",
      "name = [\"\" for _ in range(74)]\n",
      "ZOutput = [Zregion for _ in range(74)]\n",
      "Current = [Cregion for _ in range(74)]\n",
      "ZOutputW = [Zwin for _ in range(74)]\n",
      "CurrentW = [Cwin for _ in range(74)]"
     ],
     "language": "python",
     "metadata": {},
     "outputs": [],
     "prompt_number": 6
    },
    {
     "cell_type": "code",
     "collapsed": false,
     "input": [
      "dir = \"../Documents/PHYS429A/Scanning_Probe_Microscopy/1.5nm-40\"\n",
      "i=0\n",
      "for file in os.listdir(dir):\n",
      "    if file!=\".directory\":\n",
      "        img = PIL.Image.open(os.path.join(dir, file))\n",
      "        rgb_im = img.convert('RGB')\n",
      "        name[i] = file\n",
      "        ZOutput[i] = np.array(rgb_im.crop(ZOutputLoc))\n",
      "        Current[i] = np.array(rgb_im.crop(CurrentLoc))\n",
      "        ZOutputW[i] = np.array(rgb_im.crop(ZOutputWin))\n",
      "        CurrentW[i] = np.array(rgb_im.crop(CurrentWin))\n",
      "        i+=1\n",
      "print i"
     ],
     "language": "python",
     "metadata": {},
     "outputs": [
      {
       "output_type": "stream",
       "stream": "stdout",
       "text": [
        "40\n"
       ]
      }
     ],
     "prompt_number": 7
    },
    {
     "cell_type": "code",
     "collapsed": false,
     "input": [
      "for i in range(74):\n",
      "    if name[i]==\"stm12nm.bmp\":\n",
      "        print i"
     ],
     "language": "python",
     "metadata": {},
     "outputs": [],
     "prompt_number": 10
    },
    {
     "cell_type": "code",
     "collapsed": false,
     "input": [
      "print ZOutput[19][411-314][216-72]"
     ],
     "language": "python",
     "metadata": {},
     "outputs": [
      {
       "output_type": "stream",
       "stream": "stdout",
       "text": [
        "[236 118   0]\n"
       ]
      }
     ],
     "prompt_number": 11
    },
    {
     "cell_type": "code",
     "collapsed": false,
     "input": [
      "pic=Image.fromarray(Current[19])\n",
      "pic.show()"
     ],
     "language": "python",
     "metadata": {},
     "outputs": [],
     "prompt_number": 15
    },
    {
     "cell_type": "code",
     "collapsed": false,
     "input": [
      "val=np.zeros((100,256,3))\n",
      "mag=np.zeros((100,256))\n",
      "for i in range(100):\n",
      "    k=0\n",
      "    for j in range(256):\n",
      "        k=53./252.*j\n",
      "        val[i][j]=Current[19][i+k][j]\n",
      "        mag[i][j]=np.sum(Current[19][i+k][j])\n",
      "val=val.astype(np.uint8)"
     ],
     "language": "python",
     "metadata": {},
     "outputs": [],
     "prompt_number": 16
    },
    {
     "cell_type": "code",
     "collapsed": false,
     "input": [
      "pic=Image.fromarray(val)\n",
      "pic.show()"
     ],
     "language": "python",
     "metadata": {},
     "outputs": [],
     "prompt_number": 17
    },
    {
     "cell_type": "code",
     "collapsed": false,
     "input": [
      "Gxx,f=mlab.psd(mag.flatten())\n",
      "Gxxw,fw=mlab.psd(mag.flatten(),NFFT=256,window=mlab.window_hanning,noverlap=128)\n",
      "\n",
      "print Gxx[Gxx==max(Gxx[50:])][0]"
     ],
     "language": "python",
     "metadata": {},
     "outputs": [
      {
       "output_type": "stream",
       "stream": "stdout",
       "text": [
        "682377.288019\n"
       ]
      }
     ],
     "prompt_number": 258
    },
    {
     "cell_type": "code",
     "collapsed": false,
     "input": [
      "fig,ax=plt.subplots(1,2,figsize=(15,5))\n",
      "ax[0].loglog(f,Gxx)\n",
      "ax[1].loglog(fw,Gxxw)"
     ],
     "language": "python",
     "metadata": {},
     "outputs": [
      {
       "metadata": {},
       "output_type": "pyout",
       "prompt_number": 234,
       "text": [
        "[<matplotlib.lines.Line2D at 0x7f9a06723990>]"
       ]
      },
      {
       "metadata": {},
       "output_type": "display_data",
       "png": "[encoded data removed]",
       "text": [
        "<matplotlib.figure.Figure at 0x7f9a069724d0>"
       ]
      }
     ],
     "prompt_number": 234
    },
    {
     "cell_type": "code",
     "collapsed": false,
     "input": [
      "Gxx,f=mlab.psd(mag.T.flatten())\n",
      "Gxxw,fw=mlab.psd(mag.T.flatten(),NFFT=256,window=mlab.window_hanning,noverlap=128)"
     ],
     "language": "python",
     "metadata": {},
     "outputs": [],
     "prompt_number": 236
    },
    {
     "cell_type": "code",
     "collapsed": false,
     "input": [
      "fig,ax=plt.subplots(1,2,figsize=(15,5))\n",
      "ax[0].loglog(f,Gxx)\n",
      "ax[1].loglog(fw,Gxxw)"
     ],
     "language": "python",
     "metadata": {},
     "outputs": [
      {
       "metadata": {},
       "output_type": "pyout",
       "prompt_number": 237,
       "text": [
        "[<matplotlib.lines.Line2D at 0x7f9a064f9390>]"
       ]
      },
      {
       "metadata": {},
       "output_type": "display_data",
       "png": "[encoded data removed]",
       "text": [
        "<matplotlib.figure.Figure at 0x7f9a06652850>"
       ]
      }
     ],
     "prompt_number": 237
    },
    {
     "cell_type": "code",
     "collapsed": false,
     "input": [
      "def level(num,typ=0):\n",
      "    if typ==0:\n",
      "        sec=ZOutput*1\n",
      "    else:\n",
      "        sec=Current*1\n",
      "    val=np.zeros((100,256,3))\n",
      "    mag=np.zeros((100,256))\n",
      "\n",
      "    r=0.\n",
      "    peak=np.zeros(100)\n",
      "    while r<100:\n",
      "        for i in range(100):\n",
      "            k=0\n",
      "            for j in range(256):\n",
      "                k=r/252.*j\n",
      "                val[i][j]=sec[num][i+k][j]\n",
      "                mag[i][j]=np.sum(sec[num][i+k][j])\n",
      "        Gxx,f=mlab.psd(mag.flatten())\n",
      "        peak[r] = Gxx[Gxx==max(Gxx[50:])][0]\n",
      "        r+=1\n",
      "        #print r\n",
      "        #print peak[r-1]\n",
      "        #print f[Gxx==max(Gxx[50:])]\n",
      "    m=np.where(peak==max(peak))[0][0]\n",
      "    for i in range(100):\n",
      "        k=0\n",
      "        for j in range(256):\n",
      "            k=m/252.*j\n",
      "            val[i][j]=sec[num][i+k][j]\n",
      "            mag[i][j]=np.sum(sec[num][i+k][j])\n",
      "    Gxx,f=mlab.psd(mag.flatten())\n",
      "    val=val.astype(np.uint8)\n",
      "\n",
      "    #plt.loglog(f,Gxx)\n",
      "\n",
      "    #pic=Image.fromarray(val)\n",
      "    #pic.show()\n",
      "    \n",
      "    return val\n",
      "\n",
      "#rotated=np.zeros((74,100,256,3))\n",
      "#for picnum in range(74):\n",
      "#    print picnum\n",
      "#    rotated[picnum]=level(picnum)\n",
      "#rotated=rotated.astype(np.uint8)"
     ],
     "language": "python",
     "metadata": {},
     "outputs": [],
     "prompt_number": 18
    },
    {
     "cell_type": "code",
     "collapsed": false,
     "input": [
      "rotatedPic=Image.fromarray(rotated[47])\n",
      "rotatedPic.show()\n",
      "for i in range(74):\n",
      "    if name[i]==\"stm2nm.bmp\":\n",
      "        print i"
     ],
     "language": "python",
     "metadata": {},
     "outputs": [
      {
       "output_type": "stream",
       "stream": "stdout",
       "text": [
        "47\n"
       ]
      }
     ],
     "prompt_number": 294
    },
    {
     "cell_type": "code",
     "collapsed": false,
     "input": [
      "test=level(47)\n",
      "test=Image.fromarray(test)\n",
      "test.show()"
     ],
     "language": "python",
     "metadata": {},
     "outputs": [
      {
       "output_type": "stream",
       "stream": "stdout",
       "text": [
        "<type 'numpy.float64'>\n",
        "<type 'numpy.float64'>\n",
        "<type 'float'>\n"
       ]
      }
     ],
     "prompt_number": 295
    },
    {
     "cell_type": "code",
     "collapsed": false,
     "input": [
      "i=0\n",
      "for s in name:\n",
      "    if \"Feb10_6\" in s:\n",
      "        rotated[i]=level(i)\n",
      "        rotatedPic=Image.fromarray(rotated[i])\n",
      "        rotatedPic.show()\n",
      "        print name[i]\n",
      "    i+=1"
     ],
     "language": "python",
     "metadata": {},
     "outputs": [
      {
       "output_type": "stream",
       "stream": "stdout",
       "text": [
        "Feb10_6nm-1.bmp\n",
        "Feb10_6nm-3.bmp"
       ]
      },
      {
       "output_type": "stream",
       "stream": "stdout",
       "text": [
        "\n",
        "Feb10_6nm-4.bmp"
       ]
      },
      {
       "output_type": "stream",
       "stream": "stdout",
       "text": [
        "\n",
        "Feb10_6nm-0.bmp"
       ]
      },
      {
       "output_type": "stream",
       "stream": "stdout",
       "text": [
        "\n",
        "Feb10_6nm-5.bmp"
       ]
      },
      {
       "output_type": "stream",
       "stream": "stdout",
       "text": [
        "\n",
        "Feb10_6nm-2.bmp"
       ]
      },
      {
       "output_type": "stream",
       "stream": "stdout",
       "text": [
        "\n"
       ]
      }
     ],
     "prompt_number": 310
    },
    {
     "cell_type": "code",
     "collapsed": false,
     "input": [
      "i=0\n",
      "set1=np.zeros((256,256,3))\n",
      "for s in name:\n",
      "    if \"Feb10_6\" in s:\n",
      "        set1+=ZOutput[i]/6.\n",
      "        print name[i]\n",
      "    i+=1\n",
      "set1=set1.astype(np.uint8)\n",
      "im1=Image.fromarray(set1)\n",
      "im1.show()"
     ],
     "language": "python",
     "metadata": {},
     "outputs": [
      {
       "output_type": "stream",
       "stream": "stdout",
       "text": [
        "Feb10_6nm-1.bmp\n",
        "Feb10_6nm-3.bmp\n",
        "Feb10_6nm-4.bmp\n",
        "Feb10_6nm-0.bmp\n",
        "Feb10_6nm-5.bmp\n",
        "Feb10_6nm-2.bmp\n"
       ]
      }
     ],
     "prompt_number": 317
    },
    {
     "cell_type": "code",
     "collapsed": false,
     "input": [
      "plt.plot(np.mean(mag,0))"
     ],
     "language": "python",
     "metadata": {},
     "outputs": [
      {
       "metadata": {},
       "output_type": "pyout",
       "prompt_number": 23,
       "text": [
        "[<matplotlib.lines.Line2D at 0x7fa7ce7c8710>]"
       ]
      },
      {
       "metadata": {},
       "output_type": "display_data",
       "png": "[encoded data removed]",
       "text": [
        "<matplotlib.figure.Figure at 0x7fa7f4282b10>"
       ]
      }
     ],
     "prompt_number": 23
    },
    {
     "cell_type": "markdown",
     "metadata": {},
     "source": [
      "Automate the rotation:\n",
      "done!\n",
      "\n",
      "Compare images with csd and make phase go to 0. DO this for all image in a set.\n",
      "Overlay all images in a set.\n",
      "Measure interatomic spacing.\n",
      "Undo rotation in both image space and spacing value.\n",
      "Calculate theoretical value.\n",
      "Compare values.\n",
      "Repeat for other sets.\n",
      "\n",
      "Need to get oscilltion frequency and interatomic distance\n",
      "#Rotate image\n",
      "Use fft to make map of atomic positions.\n",
      "Choose one atom and line it up with the nearest from another imnage.\n",
      "Make series of images.\n",
      "\n",
      "Use travelling circle to bin average over image. When sum of bins in circle is greater than a threshold, leave a single dot at the centre of the circle. Then use a travelling radius to find the largest bin in each region of points."
     ]
    },
    {
     "cell_type": "code",
     "collapsed": false,
     "input": [
      "val=np.zeros((256,256,3))\n",
      "mag=np.zeros((256,256))\n",
      "for i in range(256):\n",
      "    for j in range(256):\n",
      "        val[i][j]=Current[1][i][j]\n",
      "        mag[i][j]=np.sum(Current[1][i][j])\n",
      "val=val.astype(np.uint8)"
     ],
     "language": "python",
     "metadata": {},
     "outputs": [],
     "prompt_number": 134
    },
    {
     "cell_type": "code",
     "collapsed": false,
     "input": [
      "mag=mag-400\n",
      "mag[np.where(mag<0)]=0"
     ],
     "language": "python",
     "metadata": {},
     "outputs": [],
     "prompt_number": 135
    },
    {
     "cell_type": "code",
     "collapsed": false,
     "input": [
      "pic=Image.fromarray(mag)\n",
      "pic.show()\n",
      "plt.plot(mag[10,:])"
     ],
     "language": "python",
     "metadata": {},
     "outputs": [
      {
       "metadata": {},
       "output_type": "pyout",
       "prompt_number": 152,
       "text": [
        "[<matplotlib.lines.Line2D at 0x7fa7c74c2990>]"
       ]
      },
      {
       "metadata": {},
       "output_type": "display_data",
       "png": "[encoded data removed]",
       "text": [
        "<matplotlib.figure.Figure at 0x7fa7c767a8d0>"
       ]
      }
     ],
     "prompt_number": 152
    },
    {
     "cell_type": "code",
     "collapsed": false,
     "input": [
      "pix=64\n",
      "mag2=np.zeros((pix,pix))\n",
      "\n",
      "for i in range(pix):\n",
      "    for j in range(pix):\n",
      "        mag2[i,j]=mag[i*4,j*4]\n",
      "        \n",
      "pic2=Image.fromarray(mag2)\n",
      "pic2.show()\n",
      "plt.plot(mag2[10,:])\n",
      "mag=mag2"
     ],
     "language": "python",
     "metadata": {},
     "outputs": [
      {
       "metadata": {},
       "output_type": "display_data",
       "png": "[encoded data removed]",
       "text": [
        "<matplotlib.figure.Figure at 0x7fa7c7370e90>"
       ]
      }
     ],
     "prompt_number": 162
    },
    {
     "cell_type": "code",
     "collapsed": false,
     "input": [
      "r=1\n",
      "x=r*1\n",
      "y=r*1\n",
      "big=np.zeros((pix-2*r,pix-2*r))\n",
      "\n",
      "print mag[x,y]\n",
      "print(np.mean(mag[x-r:x+r+1,y-r:y+r+1]))\n",
      "\n",
      "while x<pix-r:\n",
      "    while y<pix-r:\n",
      "        big[x-r,y-r]=np.mean(mag[x-r:x+r+1,y-r:y+r+1])\n",
      "        y+=1\n",
      "    x+=1\n",
      "    y=r*1\n",
      "    \n",
      "big=big-40\n",
      "big[np.where(big<0)]=0\n",
      "    \n",
      "pic=Image.fromarray(big)\n",
      "pic.show()"
     ],
     "language": "python",
     "metadata": {},
     "outputs": [
      {
       "output_type": "stream",
       "stream": "stdout",
       "text": [
        "0.0\n",
        "57.6666666667\n"
       ]
      }
     ],
     "prompt_number": 163
    },
    {
     "cell_type": "code",
     "collapsed": false,
     "input": [
      "plt.plot(big[10,:])"
     ],
     "language": "python",
     "metadata": {},
     "outputs": [
      {
       "metadata": {},
       "output_type": "pyout",
       "prompt_number": 164,
       "text": [
        "[<matplotlib.lines.Line2D at 0x7fa7c73701d0>]"
       ]
      },
      {
       "metadata": {},
       "output_type": "display_data",
       "png": "[encoded data removed]",
       "text": [
        "<matplotlib.figure.Figure at 0x7fa7ce4f70d0>"
       ]
      }
     ],
     "prompt_number": 164
    },
    {
     "cell_type": "code",
     "collapsed": false,
     "input": [
      "peaks=np.zeros((pix-2*r,pix-2*r))\n",
      "y=0\n",
      "\n",
      "for x in range(pix-2*r):\n",
      "    while y<pix-2*r:\n",
      "        if big[x,y]>10:\n",
      "            Max=big[x,y]\n",
      "            loc=y*1\n",
      "            y+=1\n",
      "            while y<pix-2*r and Max<big[x,y]:\n",
      "                Max=big[x,y]\n",
      "                loc=y*1\n",
      "                y+=1\n",
      "            while y<pix-2*r and big[x,y]>10:\n",
      "                y+=2\n",
      "            peaks[x,loc]=1\n",
      "        y+=1\n",
      "    y=0\n",
      "    \n",
      "y=0\n",
      "for x in range(pix-2*r):\n",
      "    while y<pix-2*r:\n",
      "        if big[y,x]>10:\n",
      "            Max=big[y,x]\n",
      "            loc=y*1\n",
      "            y+=1\n",
      "            while y<pix-2*r and Max<big[y,x]:\n",
      "                Max=big[y,x]\n",
      "                loc=y*1\n",
      "                y+=1\n",
      "            while y<pix-2*r and big[y,x]>10:\n",
      "                y+=2\n",
      "            peaks[loc,x]+=1\n",
      "        y+=1\n",
      "    y=0\n",
      "    \n",
      "\n",
      "peaks=(peaks-1)*256\n",
      "peaks[np.where(peaks<0)]=0\n",
      "pic=Image.fromarray(peaks)\n",
      "pic.show()"
     ],
     "language": "python",
     "metadata": {},
     "outputs": [],
     "prompt_number": 185
    },
    {
     "cell_type": "code",
     "collapsed": false,
     "input": [
      "atoms=(np.where(peaks>0)[0],np.where(peaks>0)[1][:])\n",
      "X=atoms[0]*1\n",
      "Y=atoms[1]*1\n",
      "N=len(X)\n",
      "d=np.zeros(N)\n",
      "ds=np.zeros((N,N))\n",
      "Nn=N*1\n",
      "\n",
      "for i in range(N):\n",
      "    for j in range(N):\n",
      "        if X[j]>0:\n",
      "            d[j]=np.sqrt((X[j]-X[i])**2+(Y[j]-Y[i])**2)\n",
      "            if d[j]<5 and j!=i:\n",
      "                X[i]=X[i]+(X[j]-X[i])/2.\n",
      "                Y[i]=Y[i]+(Y[j]-Y[i])/2.\n",
      "                X[j]=-1\n",
      "                Y[j]=-1\n",
      "                Nn-=1\n",
      "    ds[i]=np.sort(d)*1\n",
      "\n",
      "print len(X)\n",
      "X=X[np.where(X>=0)]\n",
      "print len(X)\n",
      "Y=Y[np.where(Y>=0)]\n",
      "np.set_printoptions(threshold='nan')\n",
      "#print ds\n",
      "peaks3=np.zeros((pix-2*r,pix-2*r))\n",
      "peaks3[X,Y]=256\n",
      "pic=Image.fromarray(peaks3)\n",
      "pic.show()"
     ],
     "language": "python",
     "metadata": {},
     "outputs": [
      {
       "output_type": "stream",
       "stream": "stdout",
       "text": [
        "58\n",
        "48\n"
       ]
      }
     ],
     "prompt_number": 192
    },
    {
     "cell_type": "code",
     "collapsed": false,
     "input": [
      "atoms=(np.where(peaks3>0)[0],np.where(peaks3>0)[1][:])\n",
      "N=len(X)\n",
      "c=12\n",
      "d=np.zeros(len(X))\n",
      "ds=np.zeros((len(X),len(X)))\n",
      "\n",
      "num=0\n",
      "for i in range(N):\n",
      "    if X[i]>c and X[i]<pix-2*r-c and Y[i]>c and Y[i]<pix-2*r-c:\n",
      "        for j in range(N):\n",
      "            d[j]=np.sqrt((X[j]-X[i])**2+(Y[j]-Y[i])**2)\n",
      "        ds[num]=np.sort(d)*1\n",
      "        num+=1\n",
      "\n",
      "plt.plot(np.mean(ds,0))\n",
      "print np.mean(ds[:num,1:7])*15./64./np.sqrt(3)"
     ],
     "language": "python",
     "metadata": {},
     "outputs": [
      {
       "output_type": "stream",
       "stream": "stdout",
       "text": [
        "1.48223748874\n"
       ]
      },
      {
       "metadata": {},
       "output_type": "display_data",
       "png": "[encoded data removed]",
       "text": [
        "<matplotlib.figure.Figure at 0x7fa7c718c810>"
       ]
      }
     ],
     "prompt_number": 213
    },
    {
     "cell_type": "code",
     "collapsed": false,
     "input": [
      "def getSpacing(image, genPlot=False, save=False, vel=False,D=1.42):\n",
      "    \n",
      "    if genPlot==True:\n",
      "        pic1=Image.fromarray(Current[image])\n",
      "        pic1.show()\n",
      "        if save:\n",
      "            pic1.save('raw.bmp')\n",
      "    \n",
      "    #Process image\n",
      "    val=np.zeros((256,256,3))\n",
      "    mag=np.zeros((256,256))\n",
      "    for i in range(256):\n",
      "        for j in range(256):\n",
      "            val[i][j]=Current[image][i][j]\n",
      "            mag[i][j]=np.sum(Current[image][i][j])\n",
      "    val=val.astype(np.uint8)\n",
      "\n",
      "    #Correct resolution\n",
      "    pix=64\n",
      "    mag2=np.zeros((pix,pix))\n",
      "\n",
      "    for i in range(pix):\n",
      "        for j in range(pix):\n",
      "            mag2[i,j]=mag[i*4,j*4]\n",
      "\n",
      "    if genPlot==True:\n",
      "        #Show corrected resolution image\n",
      "        pic2=Image.fromarray(mag2)\n",
      "        pic2.show()\n",
      "        #if save:\n",
      "        #    pic2.save('mono.bmp')\n",
      "        fig1,ax=plt.subplots(1,1,figsize=(6,4))\n",
      "        ax.plot(mag2[10,:])\n",
      "        ax.set_title('Raw signal')\n",
      "        ax.set_xlabel('Pixel')\n",
      "        ax.set_ylabel('Magnitude')\n",
      "    mag=mag2\n",
      "    \n",
      "    #Remove low amplitude noise\n",
      "    mag=mag-400\n",
      "    mag[np.where(mag<0)]=0\n",
      "\n",
      "    if genPlot==True:\n",
      "        fig2,bx=plt.subplots(1,1,figsize=(6,4))\n",
      "        bx.plot(mag[10,:])\n",
      "        bx.set_title('Noise subtracted')\n",
      "        bx.set_xlabel('Pixel')\n",
      "        bx.set_ylabel('Magnitude')\n",
      "\n",
      "    #Smooth\n",
      "    r=1\n",
      "    x=r*1\n",
      "    y=r*1\n",
      "    big=np.zeros((pix-2*r,pix-2*r))\n",
      "\n",
      "    while x<pix-r:\n",
      "        while y<pix-r:\n",
      "            big[x-r,y-r]=np.mean(mag[x-r:x+r+1,y-r:y+r+1])\n",
      "            y+=1\n",
      "        x+=1\n",
      "        y=r*1\n",
      "\n",
      "    big=big-40\n",
      "    big[np.where(big<0)]=0\n",
      "\n",
      "    if genPlot==True:\n",
      "        #Show smoothed image\n",
      "        pic=Image.fromarray(big.astype(np.uint8))\n",
      "        pic.show()\n",
      "        if save:\n",
      "            pic.save('smoothed.bmp')\n",
      "        fig3,cx=plt.subplots(1,1,figsize=(6,4))\n",
      "        cx.plot(big[10,:])\n",
      "        cx.set_title('Smoothed')\n",
      "        cx.set_xlabel('Pixel')\n",
      "        cx.set_ylabel('Magnitude')\n",
      "\n",
      "    #Peak finder\n",
      "    #-------------------------------------------------------\n",
      "    peaks=np.zeros((pix-2*r,pix-2*r))\n",
      "    y=0\n",
      "\n",
      "    for x in range(pix-2*r):\n",
      "        while y<pix-2*r:\n",
      "            if big[x,y]>10:\n",
      "                Max=big[x,y]\n",
      "                loc=y*1\n",
      "                y+=1\n",
      "                while y<pix-2*r and Max<big[x,y]:\n",
      "                    Max=big[x,y]\n",
      "                    loc=y*1\n",
      "                    y+=1\n",
      "                while y<pix-2*r and big[x,y]>10:\n",
      "                    y+=2\n",
      "                peaks[x,loc]=1\n",
      "            y+=1\n",
      "        y=0\n",
      "\n",
      "    y=0\n",
      "    for x in range(pix-2*r):\n",
      "        while y<pix-2*r:\n",
      "            if big[y,x]>10:\n",
      "                Max=big[y,x]\n",
      "                loc=y*1\n",
      "                y+=1\n",
      "                while y<pix-2*r and Max<big[y,x]:\n",
      "                    Max=big[y,x]\n",
      "                    loc=y*1\n",
      "                    y+=1\n",
      "                while y<pix-2*r and big[y,x]>10:\n",
      "                    y+=2\n",
      "                peaks[loc,x]+=1\n",
      "            y+=1\n",
      "        y=0\n",
      "\n",
      "    peaks=(peaks-1)*255\n",
      "    peaks[np.where(peaks<0)]=0\n",
      "    if genPlot==True:\n",
      "        #Show image with peaks\n",
      "        pic=Image.fromarray(peaks.astype(np.uint8))\n",
      "        pic.show()\n",
      "        if save:\n",
      "            pic.save('double.bmp')\n",
      "    #-------------------------------------------------------\n",
      "\n",
      "    #Correct double peaks\n",
      "    atoms=(np.where(peaks>0)[0],np.where(peaks>0)[1][:])\n",
      "    X=atoms[0]*1\n",
      "    Y=atoms[1]*1\n",
      "    N=len(X)\n",
      "    d=np.zeros(N)\n",
      "    ds=np.zeros((N,N))\n",
      "    Nn=N*1\n",
      "\n",
      "    for i in range(N):\n",
      "        for j in range(N):\n",
      "            if X[j]>0:\n",
      "                d[j]=np.sqrt((X[j]-X[i])**2+(Y[j]-Y[i])**2)\n",
      "                if d[j]<5 and j!=i:\n",
      "                    X[i]=X[i]+(X[j]-X[i])/2.\n",
      "                    Y[i]=Y[i]+(Y[j]-Y[i])/2.\n",
      "                    X[j]=-1\n",
      "                    Y[j]=-1\n",
      "                    Nn-=1\n",
      "        ds[i]=np.sort(d)*1\n",
      "\n",
      "    X=X[np.where(X>=0)]\n",
      "    Y=Y[np.where(Y>=0)]\n",
      "    peaks3=np.zeros((pix-2*r,pix-2*r))\n",
      "    peaks3[X,Y]=255\n",
      "\n",
      "    if genPlot==True:\n",
      "        #Show final corrected image\n",
      "        pic=Image.fromarray(peaks3.astype(np.uint8))\n",
      "        pic.show()\n",
      "        if save:\n",
      "            pic.save('final.bmp')\n",
      "\n",
      "    #Find spacing at last\n",
      "    atoms=(np.where(peaks3>0)[0],np.where(peaks3>0)[1][:])\n",
      "    N=len(X)\n",
      "    c=12\n",
      "    d=np.zeros(len(X))\n",
      "    ds=np.zeros((len(X),len(X)))\n",
      "    Xs=np.zeros(len(X))\n",
      "    Ys=np.zeros(len(X))\n",
      "\n",
      "    num=0\n",
      "    vecX=np.zeros(3)\n",
      "    vecY=np.zeros(3)\n",
      "    Vinit=False\n",
      "    invalid=False\n",
      "    for i in range(N):\n",
      "        if X[i]>c and X[i]<pix-2*r-c and Y[i]>c and Y[i]<pix-2*r-c:\n",
      "            invalid=False\n",
      "            for j in range(N):\n",
      "                d[j]=np.sqrt((X[j]-X[i])**2+(Y[j]-Y[i])**2)\n",
      "            #Find 6 closest atoms\n",
      "            Xs=X[d.argsort()]*1\n",
      "            Ys=Y[d.argsort()]*1\n",
      "            ds[num]=d[d.argsort()]*1\n",
      "            #Now find lattice vectors\n",
      "            vX=np.zeros(6)\n",
      "            vY=np.zeros(6)\n",
      "            for n in range(1,7):\n",
      "                vX[n-1]=Xs[n]-X[i]\n",
      "                vY[n-1]=Ys[n]-Y[i]\n",
      "            #Match vectors pointing in opposite directions\n",
      "            com=np.zeros(6)\n",
      "            for n in range(6):\n",
      "                difP=1000.\n",
      "                for nn in range(6):\n",
      "                    dif=np.sqrt((vX[n]+vX[nn])**2+(vY[n]+vY[nn])**2)\n",
      "                    if dif<difP:\n",
      "                        difP=dif\n",
      "                        com[n]=nn\n",
      "            #Average vectors\n",
      "            it=0\n",
      "            vecXT=np.zeros(3)\n",
      "            vecYT=np.zeros(3)\n",
      "            #Initialize first vectors\n",
      "            if Vinit==False:\n",
      "                Vinit=True\n",
      "                for n in range(6):\n",
      "                    if com[n]>n:\n",
      "                        if it<3:\n",
      "                            vecX[it]=vX[n]-vX[com[n]]\n",
      "                            vecY[it]=vY[n]-vY[com[n]]\n",
      "                            it+=1\n",
      "                        else:#Ignore bad data\n",
      "                            invalid=True\n",
      "                            Vinit=False\n",
      "            #Match vectors with initialized vectors and find weighted average\n",
      "            else:\n",
      "                for n in range(6):\n",
      "                    if com[n]>n:\n",
      "                        if it<3:\n",
      "                            vecXT[it]=vX[n]-vX[com[n]]\n",
      "                            vecYT[it]=vY[n]-vY[com[n]]\n",
      "                            it+=1\n",
      "                        else:\n",
      "                            invalid=True\n",
      "                #Match vectors using dot product\n",
      "                if invalid==False:\n",
      "                    dot=np.zeros(9)\n",
      "                    for ii in range(3):\n",
      "                        nnn=-1\n",
      "                        Mdot=0\n",
      "                        for jj in range(3):\n",
      "                            dot=vecXT[ii]*vecX[jj]+vecYT[ii]*vecY[jj]\n",
      "                            if abs(Mdot)<abs(dot):\n",
      "                                Mdot=dot\n",
      "                                nnn=jj\n",
      "                        if Mdot<0:\n",
      "                            vecXT[ii]=vecXT[ii]*-1\n",
      "                            vecYT[ii]=vecYT[ii]*-1\n",
      "                        #Do weighted averaging\n",
      "                        vecX[nnn]=(vecX[nnn]*(num)+vecXT[ii])/(num+1)\n",
      "                        vecY[nnn]=(vecY[nnn]*(num)+vecYT[ii])/(num+1)\n",
      "            if invalid==False:\n",
      "                num+=1\n",
      "    #Now do math\n",
      "    vecX=vecX/2.\n",
      "    vecY=vecY/2.\n",
      "    theta21=math.acos((vecX[1]*vecX[0]+vecY[1]*vecY[0])/(np.sqrt(vecX[1]**2+vecY[1]**2)*np.sqrt(vecX[0]**2+vecY[0]**2)))\n",
      "    theta31=math.acos((vecX[2]*vecX[0]+vecY[2]*vecY[0])/(np.sqrt(vecX[2]**2+vecY[2]**2)*np.sqrt(vecX[0]**2+vecY[0]**2)))\n",
      "    d=D*64./15.*np.sqrt(3)\n",
      "    R=64/0.035\n",
      "    dm1=np.sqrt(vecX[0]**2+vecY[0]**2)\n",
      "    dm2=np.sqrt(vecX[1]**2+vecY[1]**2)\n",
      "    dm3=np.sqrt(vecX[2]**2+vecY[2]**2)\n",
      "    n1=(dm1-d)\n",
      "    n2=dm1*(dm2-d)/dm2\n",
      "    n3=dm1*(dm3-d)/dm3\n",
      "    theta1=(math.atan(mp.cot(theta21)-n2/n1*mp.csc(theta21)) + math.atan(mp.cot(theta31)-n3/n1*mp.csc(theta31)))/2.\n",
      "    theta2=theta1+theta21\n",
      "    theta3=theta1+theta31\n",
      "    vd=((dm1-d)*R/(dm1*math.cos(theta1)) + (dm2-d)*R/(dm2*math.cos(theta2)) + (dm3-d)*R/(dm3*math.cos(theta3)))/3.\n",
      "\n",
      "    if genPlot==True:\n",
      "        fig4,dx=plt.subplots(1,1,figsize=(6,4))\n",
      "        dx.plot(np.mean(ds,0))\n",
      "        dx.set_title('Raw signal')\n",
      "        dx.set_xlabel('Pixel')\n",
      "        dx.set_ylabel('Magnitude')\n",
      "        print np.mean(ds[:num,1:7])*15./64./np.sqrt(3)\n",
      "        print 'vd='\n",
      "        print vd*15./64.\n",
      "    \n",
      "    return np.mean(ds[:num,1:7])*15./64./np.sqrt(3), vd*15./64."
     ],
     "language": "python",
     "metadata": {},
     "outputs": [],
     "prompt_number": 199
    },
    {
     "cell_type": "code",
     "collapsed": false,
     "input": [
      "spacings=np.zeros(40)\n",
      "velocities=np.zeros(40)\n",
      "for ims in range(40):\n",
      "    spacings[ims],velocities[ims]=getSpacing(ims)\n",
      "print np.mean(spacings)\n",
      "print np.std(spacings)\n",
      "print np.mean(abs(velocities))\n",
      "print np.std(abs(velocities))"
     ],
     "language": "python",
     "metadata": {},
     "outputs": [
      {
       "output_type": "stream",
       "stream": "stdout",
       "text": [
        "1.47454337295\n",
        "0.0315878651627\n",
        "82.1798390094\n",
        "39.1349021402\n"
       ]
      }
     ],
     "prompt_number": 200
    },
    {
     "cell_type": "code",
     "collapsed": false,
     "input": [
      "val1,val2=getSpacing(27,vel=True,D=1.42)\n",
      "#print val1\n",
      "#print val2\n",
      "#print spacings"
     ],
     "language": "python",
     "metadata": {},
     "outputs": [
      {
       "output_type": "stream",
       "stream": "stdout",
       "text": [
        "[  7.  -4. -11.  -9.  11.  15.]\n",
        "[  8. -10.  -1.   8. -10.  -2.]\n",
        "[ 1.  0.  5.  4.  3.  2.]\n",
        "[ -3.  -7. -11.   9.  15. -13.]\n",
        "[ -9.   7.  -1.   7.  -3. -10.]\n",
        "[ 3.  4.  4.  5.  2.  3.]\n",
        "[  3.  -7.  11.   8. -12. -16.]\n",
        "[  8.  -8.  -1. -10.   9.   0.]\n",
        "[ 1.  0.  5.  4.  3.  2.]\n",
        "[ -3.   3.  12.   8. -15.  14.]\n",
        "[-8.  9.  0. -9.  1.  8.]\n",
        "[ 1.  0.  4.  4.  2.  4.]\n",
        "[  2.  -3.  11.   9. -16.  14.]\n",
        "[ 8. -9. -1. -9.  2.  8.]\n",
        "[ 1.  0.  4.  4.  2.  4.]\n",
        "[ -2.   5.  -6.  12.   9. -15.]\n",
        "[ -8.   9.  10.   0.  -9.   3.]\n",
        "[ 1.  0.  4.  5.  2.  3.]\n",
        "[ -3.   4.  10. -11.  -8.   7.]\n",
        "[ -9.   9.   0.   1.   9. -10.]\n",
        "[ 1.  0.  3.  2.  5.  4.]\n",
        "[  2.   9.  -4.   6. -12.  -9.]\n",
        "[ 8.  0. -9. -9.  0.  9.]\n",
        "[ 2.  4.  0.  5.  1.  3.]\n",
        "[ -2.   9.   3.   7. -11.  -9.]\n",
        "[-8.  0.  9. -8.  1.  9.]\n",
        "[ 2.  4.  0.  5.  1.  3.]\n",
        "[  9.  -3.   3.   6.  -7. -12.]\n",
        "[-1. -9.  9. -9.  9.  0.]\n",
        "[ 5.  2.  1.  4.  3.  0.]\n",
        "[  3. -10.  -3.  -6.  11.   7.]\n",
        "[  9.   0. -10.   9.  -1.  -9.]\n",
        "[ 2.  4.  0.  5.  1.  3.]\n",
        "[  2.  -9.  -3.  -7.   8.  14.]\n",
        "[  8.   0.  -9.   8. -10.  -1.]\n",
        "[ 2.  5.  0.  4.  3.  1.]\n",
        "[ -2.   3.  -9.  -6.  13. -11.]\n",
        "[-8.  8.  0.  9.  1. -8.]\n",
        "[ 1.  0.  4.  0.  2.  4.]\n"
       ]
      }
     ],
     "prompt_number": 197
    },
    {
     "cell_type": "code",
     "collapsed": false,
     "input": [
      "Xaxis=np.linspace(1.2,1.5,100)\n",
      "Yaxis=np.zeros(100)\n",
      "for op in range(100):\n",
      "    Yaxis[op]=getSpacing(1,vel=True,D=Xaxis[op])\n",
      "print np.shape(Xaxis)\n",
      "print np.shape(Yaxis)\n",
      "plt.plot(Xaxis,Yaxis)"
     ],
     "language": "python",
     "metadata": {},
     "outputs": [
      {
       "output_type": "stream",
       "stream": "stdout",
       "text": [
        "(100,)\n",
        "(100,)\n"
       ]
      },
      {
       "metadata": {},
       "output_type": "pyout",
       "prompt_number": 173,
       "text": [
        "[<matplotlib.lines.Line2D at 0x7fac148b8350>]"
       ]
      },
      {
       "metadata": {},
       "output_type": "display_data",
       "png": "[encoded data removed]",
       "text": [
        "<matplotlib.figure.Figure at 0x7fac158c3d90>"
       ]
      }
     ],
     "prompt_number": 173
    },
    {
     "cell_type": "code",
     "collapsed": false,
     "input": [
      "xxx=[0, -9.,5.,-3.,-6.,11.,9.]\n",
      "yyy=[0,-1.,8.,-9.,8.,-1.,-9.]\n",
      "plt.plot(xxx,yyy,'.')\n",
      "plt.plot((-22.57142857,6.71428571,-16.21428571),(0.71428571,17.42857143,18.14285714),'.')"
     ],
     "language": "python",
     "metadata": {},
     "outputs": [
      {
       "metadata": {},
       "output_type": "pyout",
       "prompt_number": 113,
       "text": [
        "[<matplotlib.lines.Line2D at 0x7fac15982a90>]"
       ]
      },
      {
       "metadata": {},
       "output_type": "display_data",
       "png": "[encoded data removed]",
       "text": [
        "<matplotlib.figure.Figure at 0x7fac15982550>"
       ]
      }
     ],
     "prompt_number": 113
    },
    {
     "cell_type": "code",
     "collapsed": false,
     "input": [
      "xxx=[-3.,-7.,-11.,9.,15.,-13.]\n",
      "yyy=[-9.,7.,-1.,7.,-3.,-10.]\n",
      "plt.plot(xxx,yyy,'.')"
     ],
     "language": "python",
     "metadata": {},
     "outputs": [
      {
       "metadata": {},
       "output_type": "pyout",
       "prompt_number": 195,
       "text": [
        "[<matplotlib.lines.Line2D at 0x7fac14a0b750>]"
       ]
      },
      {
       "metadata": {},
       "output_type": "display_data",
       "png": "[encoded data removed]",
       "text": [
        "<matplotlib.figure.Figure at 0x7fac158c3490>"
       ]
      }
     ],
     "prompt_number": 195
    },
    {
     "cell_type": "code",
     "collapsed": false,
     "input": [],
     "language": "python",
     "metadata": {},
     "outputs": []
    }
   ],
   "metadata": {}
  }
 ]
}